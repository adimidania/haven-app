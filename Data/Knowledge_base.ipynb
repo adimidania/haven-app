{
  "nbformat": 4,
  "nbformat_minor": 0,
  "metadata": {
    "colab": {
      "provenance": []
    },
    "kernelspec": {
      "name": "python3",
      "display_name": "Python 3"
    },
    "language_info": {
      "name": "python"
    }
  },
  "cells": [
    {
      "cell_type": "markdown",
      "source": [
        "# Vector database creation"
      ],
      "metadata": {
        "id": "lhLkzhQ1c0I9"
      }
    },
    {
      "cell_type": "code",
      "execution_count": 1,
      "metadata": {
        "id": "XXXmZSbNuz8h",
        "colab": {
          "base_uri": "https://localhost:8080/"
        },
        "outputId": "2ec4e3ae-5962-47d0-8e80-a8d98a52ad35"
      },
      "outputs": [
        {
          "output_type": "stream",
          "name": "stdout",
          "text": [
            "\u001b[2K     \u001b[90m━━━━━━━━━━━━━━━━━━━━━━━━━━━━━━━━━━━━━━━━\u001b[0m \u001b[32m244.8/244.8 kB\u001b[0m \u001b[31m3.8 MB/s\u001b[0m eta \u001b[36m0:00:00\u001b[0m\n",
            "\u001b[2K     \u001b[90m━━━━━━━━━━━━━━━━━━━━━━━━━━━━━━━━━━━━━━━━\u001b[0m \u001b[32m2.3/2.3 MB\u001b[0m \u001b[31m14.8 MB/s\u001b[0m eta \u001b[36m0:00:00\u001b[0m\n",
            "\u001b[2K     \u001b[90m━━━━━━━━━━━━━━━━━━━━━━━━━━━━━━━━━━━━━━━━\u001b[0m \u001b[32m178.5/178.5 kB\u001b[0m \u001b[31m8.5 MB/s\u001b[0m eta \u001b[36m0:00:00\u001b[0m\n",
            "\u001b[2K     \u001b[90m━━━━━━━━━━━━━━━━━━━━━━━━━━━━━━━━━━━━━━━━\u001b[0m \u001b[32m232.6/232.6 kB\u001b[0m \u001b[31m10.8 MB/s\u001b[0m eta \u001b[36m0:00:00\u001b[0m\n",
            "\u001b[2K     \u001b[90m━━━━━━━━━━━━━━━━━━━━━━━━━━━━━━━━━━━━━━━━\u001b[0m \u001b[32m117.6/117.6 kB\u001b[0m \u001b[31m4.9 MB/s\u001b[0m eta \u001b[36m0:00:00\u001b[0m\n",
            "\u001b[2K     \u001b[90m━━━━━━━━━━━━━━━━━━━━━━━━━━━━━━━━━━━━━━━━\u001b[0m \u001b[32m990.0/990.0 kB\u001b[0m \u001b[31m17.8 MB/s\u001b[0m eta \u001b[36m0:00:00\u001b[0m\n",
            "\u001b[2K     \u001b[90m━━━━━━━━━━━━━━━━━━━━━━━━━━━━━━━━━━━━━━━━\u001b[0m \u001b[32m373.5/373.5 kB\u001b[0m \u001b[31m9.9 MB/s\u001b[0m eta \u001b[36m0:00:00\u001b[0m\n",
            "\u001b[2K     \u001b[90m━━━━━━━━━━━━━━━━━━━━━━━━━━━━━━━━━━━━━━━━\u001b[0m \u001b[32m139.8/139.8 kB\u001b[0m \u001b[31m3.0 MB/s\u001b[0m eta \u001b[36m0:00:00\u001b[0m\n",
            "\u001b[2K     \u001b[90m━━━━━━━━━━━━━━━━━━━━━━━━━━━━━━━━━━━━━━━━\u001b[0m \u001b[32m139.2/139.2 kB\u001b[0m \u001b[31m826.6 kB/s\u001b[0m eta \u001b[36m0:00:00\u001b[0m\n",
            "\u001b[2K     \u001b[90m━━━━━━━━━━━━━━━━━━━━━━━━━━━━━━━━━━━━━━━━\u001b[0m \u001b[32m3.1/3.1 MB\u001b[0m \u001b[31m26.0 MB/s\u001b[0m eta \u001b[36m0:00:00\u001b[0m\n",
            "\u001b[2K     \u001b[90m━━━━━━━━━━━━━━━━━━━━━━━━━━━━━━━━━━━━━━━━\u001b[0m \u001b[32m75.6/75.6 kB\u001b[0m \u001b[31m5.7 MB/s\u001b[0m eta \u001b[36m0:00:00\u001b[0m\n",
            "\u001b[2K     \u001b[90m━━━━━━━━━━━━━━━━━━━━━━━━━━━━━━━━━━━━━━━━\u001b[0m \u001b[32m12.4/12.4 MB\u001b[0m \u001b[31m37.3 MB/s\u001b[0m eta \u001b[36m0:00:00\u001b[0m\n",
            "\u001b[2K     \u001b[90m━━━━━━━━━━━━━━━━━━━━━━━━━━━━━━━━━━━━━━━━\u001b[0m \u001b[32m82.7/82.7 kB\u001b[0m \u001b[31m5.6 MB/s\u001b[0m eta \u001b[36m0:00:00\u001b[0m\n",
            "\u001b[2K     \u001b[90m━━━━━━━━━━━━━━━━━━━━━━━━━━━━━━━━━━━━━━━━\u001b[0m \u001b[32m49.2/49.2 kB\u001b[0m \u001b[31m2.4 MB/s\u001b[0m eta \u001b[36m0:00:00\u001b[0m\n",
            "\u001b[2K     \u001b[90m━━━━━━━━━━━━━━━━━━━━━━━━━━━━━━━━━━━━━━━━\u001b[0m \u001b[32m77.9/77.9 kB\u001b[0m \u001b[31m7.2 MB/s\u001b[0m eta \u001b[36m0:00:00\u001b[0m\n",
            "\u001b[2K     \u001b[90m━━━━━━━━━━━━━━━━━━━━━━━━━━━━━━━━━━━━━━━━\u001b[0m \u001b[32m58.3/58.3 kB\u001b[0m \u001b[31m5.5 MB/s\u001b[0m eta \u001b[36m0:00:00\u001b[0m\n",
            "\u001b[2K     \u001b[90m━━━━━━━━━━━━━━━━━━━━━━━━━━━━━━━━━━━━━━━━\u001b[0m \u001b[32m141.1/141.1 kB\u001b[0m \u001b[31m3.0 MB/s\u001b[0m eta \u001b[36m0:00:00\u001b[0m\n",
            "\u001b[?25h"
          ]
        }
      ],
      "source": [
        "!pip install -qU pinecone-client langchain_community cohere PyMuPDF"
      ]
    },
    {
      "cell_type": "code",
      "source": [
        "import cohere\n",
        "from PyPDF2 import PdfReader\n",
        "from langchain.text_splitter import RecursiveCharacterTextSplitter, CharacterTextSplitter\n",
        "from pinecone import Pinecone, ServerlessSpec\n",
        "import os\n",
        "import getpass\n",
        "from langchain.schema import Document\n",
        "from langchain.embeddings import CohereEmbeddings\n",
        "from langchain_community.vectorstores import Pinecone as Pinecone_Langchain"
      ],
      "metadata": {
        "id": "H5jMx1RworcZ"
      },
      "execution_count": 2,
      "outputs": []
    },
    {
      "cell_type": "code",
      "source": [
        "index = 'haven-app'\n",
        "os.environ['PINECONE_API_KEY'] = pinecone_secret_key = getpass.getpass('Enter Pinecone secret key:')\n",
        "cohere_secret_key = getpass.getpass('Enter Cohere secret key:')"
      ],
      "metadata": {
        "id": "f363ORbLpCvZ",
        "outputId": "678df4ef-ca5d-4312-ca77-2de311a6c91b",
        "colab": {
          "base_uri": "https://localhost:8080/"
        }
      },
      "execution_count": 3,
      "outputs": [
        {
          "name": "stdout",
          "output_type": "stream",
          "text": [
            "Enter Pinecone secret key:··········\n",
            "Enter Cohere secret key:··········\n"
          ]
        }
      ]
    },
    {
      "cell_type": "code",
      "source": [
        "pc = Pinecone(api_key=pinecone_secret_key)\n",
        "if index not in pc.list_indexes().names():\n",
        "  pc.create_index(\n",
        "    name = index,\n",
        "    dimension = 4096,\n",
        "    metric = 'cosine',\n",
        "    spec=ServerlessSpec(\n",
        "      cloud=\"aws\",\n",
        "      region=\"us-west-2\"\n",
        "      )\n",
        "  )\n",
        "pc.describe_index(index)"
      ],
      "metadata": {
        "id": "fFfv80sNrDEp",
        "outputId": "b9d7410d-6ce7-47b5-e77e-061065655b1c",
        "colab": {
          "base_uri": "https://localhost:8080/"
        }
      },
      "execution_count": 25,
      "outputs": [
        {
          "output_type": "execute_result",
          "data": {
            "text/plain": [
              "{'deletion_protection': 'disabled',\n",
              " 'dimension': 4096,\n",
              " 'host': 'haven-app-rc5yupj.svc.aped-4627-b74a.pinecone.io',\n",
              " 'metric': 'cosine',\n",
              " 'name': 'haven-app',\n",
              " 'spec': {'serverless': {'cloud': 'aws', 'region': 'us-east-1'}},\n",
              " 'status': {'ready': True, 'state': 'Ready'}}"
            ]
          },
          "metadata": {},
          "execution_count": 25
        }
      ]
    },
    {
      "cell_type": "code",
      "source": [
        "# Each document will have a size of 700 or less\n",
        "character_text_splitter = CharacterTextSplitter(\n",
        "    chunk_size = 700,\n",
        "    chunk_overlap  = 200,\n",
        "    length_function = len,\n",
        "    is_separator_regex=False,\n",
        ")\n",
        "recursive_text_splitter = RecursiveCharacterTextSplitter(\n",
        "    chunk_size = 700,\n",
        "    chunk_overlap  = 200,\n",
        "    length_function = len,\n",
        "    is_separator_regex=False,\n",
        ")"
      ],
      "metadata": {
        "id": "DrCAkU-3rrMh"
      },
      "execution_count": 26,
      "outputs": []
    },
    {
      "cell_type": "markdown",
      "source": [
        "# Books"
      ],
      "metadata": {
        "id": "fDMQ8EVs57bS"
      }
    },
    {
      "cell_type": "code",
      "source": [
        "from google.colab import drive\n",
        "drive.mount('/content/drive')"
      ],
      "metadata": {
        "colab": {
          "base_uri": "https://localhost:8080/"
        },
        "id": "ErPigit06Sen",
        "outputId": "d3b12782-548b-479c-e1b3-e910f7cffb38"
      },
      "execution_count": 6,
      "outputs": [
        {
          "output_type": "stream",
          "name": "stdout",
          "text": [
            "Mounted at /content/drive\n"
          ]
        }
      ]
    },
    {
      "cell_type": "code",
      "source": [
        "import fitz"
      ],
      "metadata": {
        "id": "MWQX59lu7XFe"
      },
      "execution_count": 12,
      "outputs": []
    },
    {
      "cell_type": "markdown",
      "source": [
        "## Why Has Nobody Told Me This Before"
      ],
      "metadata": {
        "id": "fbg2jlu47IKn"
      }
    },
    {
      "cell_type": "markdown",
      "source": [
        "A book about Dark Places, Motivation, Emotional Pain, Grief, Self-doubt, Fear, Stress, and having a Meaningful Life."
      ],
      "metadata": {
        "id": "XjEGyJjN8LH6"
      }
    },
    {
      "cell_type": "code",
      "source": [
        "book_path = '/content/drive/My Drive/Books/Why Has Nobody Told Me This Before.pdf'\n",
        "pdf_document = fitz.open(book_path)\n",
        "\n",
        "text = ''\n",
        "for page_num in range(15, pdf_document.page_count-20):\n",
        "    page = pdf_document.load_page(page_num)\n",
        "    text += page.get_text()\n",
        "\n",
        "pdf_document.close()\n",
        "\n",
        "print(text[:500])"
      ],
      "metadata": {
        "colab": {
          "base_uri": "https://localhost:8080/"
        },
        "id": "pbhviCKx6iOB",
        "outputId": "17e65588-bfa0-43fa-d649-a86df366a1fd"
      },
      "execution_count": 57,
      "outputs": [
        {
          "output_type": "stream",
          "name": "stdout",
          "text": [
            "CHAPTER 1\n",
            "Understanding low mood\n",
            "Everyone has low days.\n",
            "Everyone.\n",
            "But we all di\u001fer in how frequent the low days are and how severe\n",
            "the low mood.\n",
            "Something that I have come to realize over the years of working as a\n",
            "psychologist is how much people struggle with low mood and never tell\n",
            "a soul. Their friends and family would never know. They mask it, push it\n",
            "away and focus on meeting expectations. Sometimes people arrive at\n",
            "therapy a,er years of doing that.\n",
            "They feel like they’re ge-ing something wr\n"
          ]
        }
      ]
    },
    {
      "cell_type": "code",
      "source": [
        "chunks = recursive_text_splitter.split_text(text)\n",
        "print(f\"Number of chunks is {len(chunks)}\")"
      ],
      "metadata": {
        "colab": {
          "base_uri": "https://localhost:8080/"
        },
        "id": "hfJuS6en8uIt",
        "outputId": "25759a60-ba3e-4748-99d0-022a2f9869a3"
      },
      "execution_count": 58,
      "outputs": [
        {
          "output_type": "stream",
          "name": "stdout",
          "text": [
            "Number of chunks is 733\n"
          ]
        }
      ]
    },
    {
      "cell_type": "code",
      "source": [
        "documents = []\n",
        "for chunk in chunks:\n",
        "  documents.append(Document(\n",
        "        page_content=chunk,\n",
        "        metadata={\"Book\": \"Why Has Nobody Told Me This Before\", \"Author\": \"Dr. Julie Smith\"},\n",
        "  ))"
      ],
      "metadata": {
        "id": "GAwd1jfeqKh8"
      },
      "execution_count": 59,
      "outputs": []
    },
    {
      "cell_type": "code",
      "source": [
        "embeddings = CohereEmbeddings(cohere_api_key= cohere_secret_key, user_agent='haven-app')\n",
        "vector_store = Pinecone_Langchain.from_documents(documents, embeddings, index_name=index)"
      ],
      "metadata": {
        "id": "LiyAHuaOq1qi"
      },
      "execution_count": 60,
      "outputs": []
    },
    {
      "cell_type": "code",
      "source": [
        "retriever = vector_store.as_retriever()\n",
        "matched_docs = retriever.get_relevant_documents('How can I be happy?')\n",
        "for i, d in enumerate(matched_docs):\n",
        "    print(f\"\\n## Document {i}\\n\")\n",
        "    print(d.page_content)\n",
        "    print(d.metadata)"
      ],
      "metadata": {
        "colab": {
          "base_uri": "https://localhost:8080/"
        },
        "id": "C_6Dvare9Tav",
        "outputId": "b4f42406-5560-49f2-a6ad-c035993855ca"
      },
      "execution_count": 66,
      "outputs": [
        {
          "output_type": "stream",
          "name": "stdout",
          "text": [
            "\n",
            "## Document 0\n",
            "\n",
            "Work on your relationship to failure and building shame\n",
            "resilience to help you deal with stress in high-pressure\n",
            "situations.\n",
            "CHAPTER 32\n",
            "The problem with ‘I just want\n",
            "to be happy’\n",
            "In therapy when we start to shine a light on the way forward and think\n",
            "about what we want, it’s not uncommon to hear ‘I just want to be\n",
            "happy.’\n",
            "But the idea of happiness has been hijacked over the years by an\n",
            "elusive fairytale of constant pleasure and satisfaction with life. You\n",
            "don’t have to look far on social media to come across a wave of posts\n",
            "telling you to ‘be positive, stay happy, eliminate negativity from your\n",
            "life’.\n",
            "We are given the impression that happiness is the norm and anything\n",
            "{'Author': 'Dr. Julie Smith', 'Book': 'Why Has Nobody Told Me This Before'}\n",
            "\n",
            "## Document 1\n",
            "\n",
            "KNOW: You are not as happy as you think you are. The hap-\n",
            "pier you are with something, the less you need other peo-\n",
            "ple to be. Instead of wondering whether or not someone \n",
            "else will think you are enough, stop and ask yourself: Is my \n",
            "life enough for me? How do you really feel about your life \n",
            "when you aren’t looking at it through the eyes of others?\n",
            "THE WAY YOU ARE SELF-SABOTAGING: Spending too much \n",
            "money.\n",
            "WHAT YOUR SUBCONSCIOUS MIND MIGHT WANT YOU TO \n",
            "87\n",
            "THE MOUNTAIN IS YOU\n",
            "KNOW: Things will not make you feel more secure. You \n",
            "will not be able to purchase your way into a new life or \n",
            "identity. If you are overspending or spending outside of\n",
            "{'Author': 'Brianna Wiest', 'Book': 'The Mountain Is You'}\n",
            "\n",
            "## Document 2\n",
            "\n",
            "over hypothetical things, creating drama at important \n",
            "holidays or events, or otherwise finding that the very peo-\n",
            "ple they are supposed to love and cherish most receive the \n",
            "worst of their behavior.\n",
            "In order to find greater happiness, you need to see yourself as \n",
            "an equal to those around you. When you view yourself in a \n",
            "position to constantly learn from all those you know, you are \n",
            "no longer compensating for fearing you are “beneath” them.\n",
            "LEAN INTO THE LITTLE JOYS WHEN YOU FIND THEM\n",
            "When we think of trying to “enjoy” life, it’s common for \n",
            "our minds to jump to trying to achieve things that are \n",
            "huge, overwhelming highs. We think that being happy is\n",
            "{'Author': 'Brianna Wiest', 'Book': 'The Mountain Is You'}\n",
            "\n",
            "## Document 3\n",
            "\n",
            "telling you to ‘be positive, stay happy, eliminate negativity from your\n",
            "life’.\n",
            "We are given the impression that happiness is the norm and anything\n",
            "outside of that could be a mental health problem. We are also sold the\n",
            "idea that if we can achieve material wealth, happiness will arrive and\n",
            "stick around.\n",
            "But humans are not built to be in a constant happy state. We are\n",
            "built to respond to the challenges of survival. Emotions are a reﬂection\n",
            "of our physical state, our actions, beliefs and what is going on around\n",
            "us. All of those things are constantly changing. Therefore, a normal\n",
            "state is one that constantly changes too. In his book The Happiness\n",
            "{'Author': 'Dr. Julie Smith', 'Book': 'Why Has Nobody Told Me This Before'}\n"
          ]
        }
      ]
    },
    {
      "cell_type": "markdown",
      "source": [
        "## The Mountain Is You"
      ],
      "metadata": {
        "id": "WhHUh-C09gIh"
      }
    },
    {
      "cell_type": "markdown",
      "source": [
        "This book is about self-doubt and self-sabotage."
      ],
      "metadata": {
        "id": "FayE1ZCm_CiN"
      }
    },
    {
      "cell_type": "code",
      "source": [
        "book_path = '/content/drive/My Drive/Books/The Mountain Is You.pdf'\n",
        "pdf_document = fitz.open(book_path)\n",
        "\n",
        "text = ''\n",
        "for page_num in range(5, pdf_document.page_count-5):\n",
        "    page = pdf_document.load_page(page_num)\n",
        "    text += page.get_text()\n",
        "\n",
        "pdf_document.close()\n",
        "\n",
        "print(text[:500])"
      ],
      "metadata": {
        "colab": {
          "base_uri": "https://localhost:8080/"
        },
        "id": "aNjGNOJz9jkc",
        "outputId": "8c70bb05-17ac-4b08-87e2-55853df28916"
      },
      "execution_count": 62,
      "outputs": [
        {
          "output_type": "stream",
          "name": "stdout",
          "text": [
            "5\n",
            "THE MOUNTAIN IS YOU\n",
            "I N T R O D U C T I O N \n",
            "MUCH LIKE NATURE, life is very often working in our favor, \n",
            "even when it seems like we are only being faced with ad-\n",
            "versity, discomfort, and change.\n",
            "As forest fires are essential to the ecology of the environ-\n",
            "ment—opening new seeds that require heat to sprout and \n",
            "rebuild a population of trees—our minds also go through \n",
            "periodic episodes of positive disintegration, or a cleansing \n",
            "through which we release and renew our self-concept. We \n",
            "know that \n"
          ]
        }
      ]
    },
    {
      "cell_type": "code",
      "source": [
        "chunks = recursive_text_splitter.split_text(text)\n",
        "print(f\"Number of chunks is {len(chunks)}\")"
      ],
      "metadata": {
        "colab": {
          "base_uri": "https://localhost:8080/"
        },
        "id": "meqHd3naBh36",
        "outputId": "86eaf9ff-e2f7-4dd3-fd1b-a4246e8115bc"
      },
      "execution_count": 63,
      "outputs": [
        {
          "output_type": "stream",
          "name": "stdout",
          "text": [
            "Number of chunks is 581\n"
          ]
        }
      ]
    },
    {
      "cell_type": "code",
      "source": [
        "documents = []\n",
        "for chunk in chunks:\n",
        "  documents.append(Document(\n",
        "        page_content=chunk,\n",
        "        metadata={\"Book\": \"The Mountain Is You\", \"Author\": \"Brianna Wiest\"},\n",
        "  ))"
      ],
      "metadata": {
        "id": "r7IBcaN8_XQf"
      },
      "execution_count": 64,
      "outputs": []
    },
    {
      "cell_type": "code",
      "source": [
        "embeddings = CohereEmbeddings(cohere_api_key= cohere_secret_key, user_agent='haven-app')\n",
        "vector_store = Pinecone_Langchain.from_documents(documents, embeddings, index_name=index)"
      ],
      "metadata": {
        "id": "ss9NSh-cABF5"
      },
      "execution_count": 65,
      "outputs": []
    },
    {
      "cell_type": "code",
      "source": [
        "retriever = vector_store.as_retriever()\n",
        "matched_docs = retriever.get_relevant_documents('How to get rid of self-sabotage?')\n",
        "for i, d in enumerate(matched_docs):\n",
        "    print(f\"\\n## Document {i}\\n\")\n",
        "    print(d.page_content)\n",
        "    print(d.metadata)"
      ],
      "metadata": {
        "colab": {
          "base_uri": "https://localhost:8080/"
        },
        "id": "5YKaEz4NAEoG",
        "outputId": "9796f2e3-43ed-41a7-c5e5-823b1f9c71a7"
      },
      "execution_count": 67,
      "outputs": [
        {
          "output_type": "stream",
          "name": "stdout",
          "text": [
            "\n",
            "## Document 0\n",
            "\n",
            "gence, willpower, or capability. That is usually not the case. \n",
            "Self-sabotage is not a way we hurt ourselves; it’s a way we \n",
            "try to protect ourselves. \n",
            "W H AT I S S E L F-S A B OTA G E?\n",
            "Self-sabotage is when you have two conflicting desires. \n",
            "One is conscious, one is unconscious. You know how you \n",
            "want to move your life forward, and yet you are still, for \n",
            "some reason, stuck. \n",
            "29\n",
            "THE MOUNTAIN IS YOU\n",
            "When you have big, ongoing, insurmountable issues in \n",
            "your life—especially when the solutions seem so simple, \n",
            "so easy, and yet so impossible to stick with—what you \n",
            "have are not big problems but big attachments. \n",
            "People are pretty incredible in the fact that they basically\n",
            "{'Author': 'Brianna Wiest', 'Book': 'The Mountain Is You'}\n",
            "\n",
            "## Document 1\n",
            "\n",
            "them out. Some of the most prominent symptoms of \n",
            "self-sabotage are as follows: \n",
            "YOU ARE MORE AWARE OF WHAT YOU DON’T WANT THAN \n",
            "WHAT YOU DO.\n",
            "You spend more of your time worrying, ruminating, and \n",
            "focusing on what you hope doesn’t happen than you do \n",
            "imagining, strategizing, and planning for what you do.\n",
            "YOU SPEND MORE TIME TRYING TO IMPRESS PEOPLE WHO \n",
            "DON’T LIKE YOU THAN YOU SPEND WITH PEOPLE WHO \n",
            "LOVE YOU FOR WHO YOU ARE. \n",
            "59\n",
            "THE MOUNTAIN IS YOU\n",
            "You are more focused on growing into the kind of per-\n",
            "son who evokes the envy of your supposed enemies rather \n",
            "than the kind of person who is beloved by their family and \n",
            "friends and prioritizes them no matter what.\n",
            "{'Author': 'Brianna Wiest', 'Book': 'The Mountain Is You'}\n",
            "\n",
            "## Document 2\n",
            "\n",
            "yourself.\n",
            "If there is an ongoing gap between where you are and \n",
            "where you want to be—and your efforts to close it are \n",
            "consistently met with your own resistance, pain, and dis-\n",
            "comfort—self-sabotage is almost always at work. \n",
            "On the surface, self-sabotage seems masochistic. It ap-\n",
            "pears to be a product of self-hatred, low confidence, or \n",
            "a lack of willpower. In reality, self-sabotage is simply the \n",
            "presence of an unconscious need that is being fulfilled by \n",
            "the self-sabotaging behavior. To overcome this, we must \n",
            "go through a process of deep psychological excavation. We \n",
            "must pinpoint the traumatic event, release unprocessed \n",
            "emotions, find healthier ways to meet our needs, reinvent\n",
            "{'Author': 'Brianna Wiest', 'Book': 'The Mountain Is You'}\n",
            "\n",
            "## Document 3\n",
            "\n",
            "gently designed by your subconscious to meet an unful-\n",
            "filled need, displaced emotion, or neglected desire. \n",
            "28  \n",
            "BRIANNA WIEST\n",
            "Overcoming self-sabotage is not about \n",
            "trying to figure out how to override your \n",
            "impulses; it is first determining why those \n",
            "impulses exist in the first place.\n",
            "Self-sabotage is often misunderstood to be a way in which \n",
            "we punish, deride, or intentionally hurt ourselves. On the \n",
            "surface, this seems true enough. Self-sabotage is commit-\n",
            "ting to a healthier diet and finding yourself pulling up to \n",
            "the drive-thru a few hours later. It’s identifying a market \n",
            "gap, conceiving an unprecedentedly brilliant business idea,\n",
            "{'Author': 'Brianna Wiest', 'Book': 'The Mountain Is You'}\n"
          ]
        }
      ]
    },
    {
      "cell_type": "markdown",
      "source": [
        "## Emotional First Aid"
      ],
      "metadata": {
        "id": "vnx3p3eOB8kR"
      }
    },
    {
      "cell_type": "markdown",
      "source": [
        "This books talk about Failure, rejection, Guilt and other everyday psychological injuries."
      ],
      "metadata": {
        "id": "woKcTA9QCJQi"
      }
    },
    {
      "cell_type": "code",
      "source": [
        "book_path = '/content/drive/My Drive/Books/Emotional First Aid.pdf'\n",
        "pdf_document = fitz.open(book_path)\n",
        "\n",
        "text = ''\n",
        "for page_num in range(5, pdf_document.page_count):\n",
        "    page = pdf_document.load_page(page_num)\n",
        "    text += page.get_text()\n",
        "\n",
        "pdf_document.close()\n",
        "\n",
        "print(text[:500])"
      ],
      "metadata": {
        "colab": {
          "base_uri": "https://localhost:8080/"
        },
        "id": "ppCg9_AwB70F",
        "outputId": "d9a140ab-0781-43bf-c228-3bcbbc5eef25"
      },
      "execution_count": 68,
      "outputs": [
        {
          "output_type": "stream",
          "name": "stdout",
          "text": [
            "Introduction\n",
            "A\n",
            "sk a ten-​\n",
            "­\n",
            "year-​\n",
            "­\n",
            "old what you should do if you catch a cold and \n",
            "the child would immediately recommend getting into bed \n",
            "and drinking chicken soup. Ask what you should do if you get a \n",
            "cut on your knee and the child would advocate cleaning it (or us-\n",
            "ing antibacterial ointment) and bandaging it. Children also know \n",
            "that if you break a bone in your leg you need to get a cast on it so \n",
            "it mends correctly. If you then asked why these steps were neces-\n",
            "sary they would tell you th\n"
          ]
        }
      ]
    },
    {
      "cell_type": "code",
      "source": [
        "chunks = recursive_text_splitter.split_text(text)\n",
        "print(f\"Number of chunks is {len(chunks)}\")"
      ],
      "metadata": {
        "colab": {
          "base_uri": "https://localhost:8080/"
        },
        "id": "3ZXZ-9kgAgFW",
        "outputId": "5122e011-a8f0-4b7c-cd1d-28b01d9c1c09"
      },
      "execution_count": 69,
      "outputs": [
        {
          "output_type": "stream",
          "name": "stdout",
          "text": [
            "Number of chunks is 1017\n"
          ]
        }
      ]
    },
    {
      "cell_type": "code",
      "source": [
        "documents = []\n",
        "for chunk in chunks:\n",
        "  documents.append(Document(\n",
        "        page_content=chunk,\n",
        "        metadata={\"Book\": \"Emotional First Aid\", \"Author\": \"Guy Winsh\"},\n",
        "  ))"
      ],
      "metadata": {
        "id": "9YdlyIDwChYl"
      },
      "execution_count": 70,
      "outputs": []
    },
    {
      "cell_type": "code",
      "source": [
        "embeddings = CohereEmbeddings(cohere_api_key= cohere_secret_key, user_agent='haven-app')\n",
        "vector_store = Pinecone_Langchain.from_documents(documents, embeddings, index_name=index)"
      ],
      "metadata": {
        "id": "ZtRU_d5hC7QW"
      },
      "execution_count": 71,
      "outputs": []
    },
    {
      "cell_type": "code",
      "source": [
        "retriever = vector_store.as_retriever()\n",
        "matched_docs = retriever.get_relevant_documents('I feel like a failure')\n",
        "for i, d in enumerate(matched_docs):\n",
        "    print(f\"\\n## Document {i}\\n\")\n",
        "    print(d.page_content)\n",
        "    print(d.metadata)"
      ],
      "metadata": {
        "colab": {
          "base_uri": "https://localhost:8080/"
        },
        "id": "tALbHY5oC9qP",
        "outputId": "00ef1959-5259-490a-e330-af73a99ec041"
      },
      "execution_count": 72,
      "outputs": [
        {
          "output_type": "stream",
          "name": "stdout",
          "text": [
            "\n",
            "## Document 0\n",
            "\n",
            "CHAPTER 20\n",
            "You are not your mistakes\n",
            "Most self-doubt is linked to the relationship we have with failure. I am\n",
            "not about to sit here and tell you to just be OK with failure, then\n",
            "everything will be easy. That is not true. Failure is never easy. It stings\n",
            "every time. We all want to be enough. We all want to be acceptable\n",
            "and failure is a sign that maybe we weren’t enough this time.\n",
            "It is not only our relationship with our own failure that needs to\n",
            "change, but also how we respond to the failure of others. You don’t\n",
            "have to spend too long on Twi-er to develop an overwhelming fear of\n",
            "failure. Say the wrong thing in a tweet and a collective army of\n",
            "{'Author': 'Dr. Julie Smith', 'Book': 'Why Has Nobody Told Me This Before'}\n",
            "\n",
            "## Document 1\n",
            "\n",
            "is what keeps you completely stuck. If you feel as though \n",
            "you truly failed yourself in some profound way, it becomes \n",
            "even more crucial that you move on and create the expe-\n",
            "rience you desire now.\n",
            "Your life is not over. You did not fail indefinitely, but you \n",
            "will if you never let go and try again.\n",
            "TALK IT OUT, BECAUSE THINGS ARE OFTEN MORE \n",
            "COMPLICATED IN YOUR HEAD\n",
            "If you feel really tangled up in your thoughts, feelings, \n",
            "and fears, talk to someone. Perhaps a mental-health pro-\n",
            "fessional or a trusted friend. If nobody is around, talk to \n",
            "yourself. Talk out your ideas as though you were speaking \n",
            "to someone else in front of you.\n",
            "Sometimes, we need an objective third party to help us\n",
            "{'Author': 'Brianna Wiest', 'Book': 'The Mountain Is You'}\n",
            "\n",
            "## Document 2\n",
            "\n",
            "accept that and move on. That’s why I’m here, Doc. I need help. \n",
            "You have to help me accept that my life as a magician is over. \n",
            "Maybe once I do, it won’t hurt so much.”\n",
            "Magic was Lenny’s lifelong passion, but his failure to secure an \n",
            "agent or come up with a spectacular signature trick made him feel \n",
            "as though he’d exhausted all his options. In his mind, the only \n",
            "choice he had left was to give up his dream. Failure does that to us. \n",
            "It makes us feel hopeless and trapped, and it induces us to give up. \n",
            "We tend to fall prey to this kind of defeatist thinking far more than \n",
            "\t\n",
            "Failure\t\n",
            "181\n",
            "we realize. We get passed up for a promotion, so we cease making\n",
            "{'Author': 'Guy Winsh', 'Book': 'Emotional First Aid'}\n",
            "\n",
            "## Document 3\n",
            "\n",
            "Change your relationship with failure\n",
            "Something that can zap motivation is the prospect of failure. But that\n",
            "depends on the relationship we have with failure. If slipping up and\n",
            "going o\u001f track means we engage in vicious self-a-ack and relentless\n",
            "self-criticism, we are likely to feel ashamed and defeated. If we\n",
            "associate failure with unworthiness, then starting anything new is going\n",
            "to feel overwhelming and procrastination will be front and centre. We\n",
            "protect ourselves from the psychological threat of shame by\n",
            "sabotaging the process before it gets started.\n",
            "Shame is not as helpful for motivation as you might think. When we\n",
            "get caught in self-criticism and shame, we feel inadequate, defective\n",
            "{'Author': 'Dr. Julie Smith', 'Book': 'Why Has Nobody Told Me This Before'}\n"
          ]
        }
      ]
    },
    {
      "cell_type": "markdown",
      "source": [
        "## 101 Essays That Will Change The Way You Think"
      ],
      "metadata": {
        "id": "2ZQseDmkO404"
      }
    },
    {
      "cell_type": "markdown",
      "source": [
        "In this book, Brianna Wiest explores pursuing purpose over passion, embracing negative thinking, seeing the wisdom in daily routine, and becoming aware of the cognitive biases that are creating the way we see our lives."
      ],
      "metadata": {
        "id": "JWlDLMIhO8eu"
      }
    },
    {
      "cell_type": "code",
      "source": [
        "book_path = '/content/drive/My Drive/Books/101 Essays That Will Change The Way You Think.pdf'\n",
        "pdf_document = fitz.open(book_path)\n",
        "\n",
        "text = ''\n",
        "for page_num in range(8, pdf_document.page_count):\n",
        "    page = pdf_document.load_page(page_num)\n",
        "    text += page.get_text()\n",
        "\n",
        "pdf_document.close()\n",
        "\n",
        "print(text[:500])"
      ],
      "metadata": {
        "colab": {
          "base_uri": "https://localhost:8080/"
        },
        "id": "rH0s4JOIDJnI",
        "outputId": "1ae5ffba-c6c0-43c7-bd29-59d99fc6ca95"
      },
      "execution_count": 73,
      "outputs": [
        {
          "output_type": "stream",
          "name": "stdout",
          "text": [
            "recreating a solution or an ideal of the past. When things\n",
            "don’t work out the way you want them to, you think you’ve\n",
            "failed only because you didn’t re-create something you\n",
            "perceived as desirable. In reality, you likely created\n",
            "something better, but foreign, and your brain misinterpreted it\n",
            "as “bad” because of that. (Moral of the story: Living in the\n",
            "moment isn’t a lofty ideal reserved for the Zen and\n",
            "enlightened; it’s the only way to live a life that isn’t infiltrated\n",
            "with illusions. It’s the on\n"
          ]
        }
      ]
    },
    {
      "cell_type": "code",
      "source": [
        "chunks = recursive_text_splitter.split_text(text)\n",
        "print(f\"Number of chunks is {len(chunks)}\")"
      ],
      "metadata": {
        "colab": {
          "base_uri": "https://localhost:8080/"
        },
        "id": "KxYP_naZPBQn",
        "outputId": "eb296b6b-43f9-4117-aa58-09a664bf39a2"
      },
      "execution_count": 74,
      "outputs": [
        {
          "output_type": "stream",
          "name": "stdout",
          "text": [
            "Number of chunks is 1020\n"
          ]
        }
      ]
    },
    {
      "cell_type": "code",
      "source": [
        "documents = []\n",
        "for chunk in chunks:\n",
        "  documents.append(Document(\n",
        "        page_content=chunk,\n",
        "        metadata={\"Book\": \"101 Essays That Will Change The Way You Think\", \"Author\": \"Brianna Wiest\"},\n",
        "  ))"
      ],
      "metadata": {
        "id": "GqROTjlnPDrY"
      },
      "execution_count": 75,
      "outputs": []
    },
    {
      "cell_type": "code",
      "source": [
        "embeddings = CohereEmbeddings(cohere_api_key= cohere_secret_key, user_agent='haven-app')\n",
        "vector_store = Pinecone_Langchain.from_documents(documents, embeddings, index_name=index)"
      ],
      "metadata": {
        "id": "NJ-qlpNxPOMy"
      },
      "execution_count": 76,
      "outputs": []
    },
    {
      "cell_type": "markdown",
      "source": [
        "# Articles"
      ],
      "metadata": {
        "id": "-pXc_oHvWUCu"
      }
    },
    {
      "cell_type": "markdown",
      "source": [
        "## Building Better Mental Health"
      ],
      "metadata": {
        "id": "cQx4g2B2WbRa"
      }
    },
    {
      "cell_type": "code",
      "source": [
        "book_path = '/content/drive/My Drive/Books/Building better mental health.pdf'\n",
        "pdf_document = fitz.open(book_path)\n",
        "\n",
        "text = ''\n",
        "for page_num in range(pdf_document.page_count):\n",
        "    page = pdf_document.load_page(page_num)\n",
        "    text += page.get_text()\n",
        "\n",
        "pdf_document.close()\n",
        "\n",
        "print(text[:500])"
      ],
      "metadata": {
        "colab": {
          "base_uri": "https://localhost:8080/"
        },
        "id": "AfHKG0Iya5F0",
        "outputId": "f5feedd1-2aa4-4bf7-8866-6aa5e1e682bd"
      },
      "execution_count": 79,
      "outputs": [
        {
          "output_type": "stream",
          "name": "stdout",
          "text": [
            "Understanding good mental health\n",
            "Your mental health influences how you think, feel, and behave in daily life. It also\n",
            "affects your ability to cope with stress, overcome challenges, build relationships, and\n",
            "recover from life’s setbacks and hardships.\n",
            "Strong mental health isn’t just the absence of mental health problems. Being\n",
            "mentally or emotionally healthy is much more than being free of depression, anxiety,\n",
            "or other psychological issues. Rather than the absence of mental illness, mental\n",
            "health \n"
          ]
        }
      ]
    },
    {
      "cell_type": "code",
      "source": [
        "chunks = recursive_text_splitter.split_text(text)\n",
        "print(f\"Number of chunks is {len(chunks)}\")"
      ],
      "metadata": {
        "colab": {
          "base_uri": "https://localhost:8080/"
        },
        "id": "Ls0lejHebK1_",
        "outputId": "9e1e3c0f-7515-4320-de5c-9d3ac823c711"
      },
      "execution_count": 80,
      "outputs": [
        {
          "output_type": "stream",
          "name": "stdout",
          "text": [
            "Number of chunks is 35\n"
          ]
        }
      ]
    },
    {
      "cell_type": "code",
      "source": [
        "documents = []\n",
        "for chunk in chunks:\n",
        "  documents.append(Document(\n",
        "        page_content=chunk,\n",
        "        metadata={\"Article\": \"Building better mental health\", \"Source\": \"HelpGuide.org\"},\n",
        "  ))"
      ],
      "metadata": {
        "id": "zSRnneI6bNST"
      },
      "execution_count": 81,
      "outputs": []
    },
    {
      "cell_type": "code",
      "source": [
        "embeddings = CohereEmbeddings(cohere_api_key= cohere_secret_key, user_agent='haven-app')\n",
        "vector_store = Pinecone_Langchain.from_documents(documents, embeddings, index_name=index)"
      ],
      "metadata": {
        "id": "tH3AXAbybV2s"
      },
      "execution_count": 82,
      "outputs": []
    },
    {
      "cell_type": "markdown",
      "source": [
        "## The Mental Health Benefits of Exercise"
      ],
      "metadata": {
        "id": "0yf36gsRWxms"
      }
    },
    {
      "cell_type": "code",
      "source": [
        "book_path = '/content/drive/My Drive/Books/The Mental Health Benefits of Exercise.pdf'\n",
        "pdf_document = fitz.open(book_path)\n",
        "\n",
        "text = ''\n",
        "for page_num in range(pdf_document.page_count):\n",
        "    page = pdf_document.load_page(page_num)\n",
        "    text += page.get_text()\n",
        "\n",
        "pdf_document.close()\n",
        "\n",
        "print(text[:500])"
      ],
      "metadata": {
        "colab": {
          "base_uri": "https://localhost:8080/"
        },
        "id": "vcu_MqIzbYDQ",
        "outputId": "8e09c119-d1d2-4488-f659-987532c64903"
      },
      "execution_count": 83,
      "outputs": [
        {
          "output_type": "stream",
          "name": "stdout",
          "text": [
            "What are the mental health benefits of exercise?\n",
            "Exercise is not just about aerobic capacity and muscle size. Sure, exercise can\n",
            "improve your physical health and your physique, trim your waistline, improve your\n",
            "sex life, and even add years to your life. But that’s not what motivates most people to\n",
            "stay active.\n",
            "People who exercise regularly tend to do so because it gives them an enormous\n",
            "sense of well-being. They feel more energetic throughout the day, sleep better at\n",
            "night, have sharper memories\n"
          ]
        }
      ]
    },
    {
      "cell_type": "code",
      "source": [
        "chunks = recursive_text_splitter.split_text(text)\n",
        "print(f\"Number of chunks is {len(chunks)}\")"
      ],
      "metadata": {
        "colab": {
          "base_uri": "https://localhost:8080/"
        },
        "id": "YgiwMe2ibYGj",
        "outputId": "d8ded708-c6af-44ea-b665-68423a305ca6"
      },
      "execution_count": 84,
      "outputs": [
        {
          "output_type": "stream",
          "name": "stdout",
          "text": [
            "Number of chunks is 31\n"
          ]
        }
      ]
    },
    {
      "cell_type": "code",
      "source": [
        "documents = []\n",
        "for chunk in chunks:\n",
        "  documents.append(Document(\n",
        "        page_content=chunk,\n",
        "        metadata={\"Article\": \"The Mental Health Benefits of Exercise\", \"Source\": \"HelpGuide.org\"},\n",
        "  ))"
      ],
      "metadata": {
        "id": "JiftgZeRbYMA"
      },
      "execution_count": 85,
      "outputs": []
    },
    {
      "cell_type": "code",
      "source": [
        "embeddings = CohereEmbeddings(cohere_api_key= cohere_secret_key, user_agent='haven-app')\n",
        "vector_store = Pinecone_Langchain.from_documents(documents, embeddings, index_name=index)"
      ],
      "metadata": {
        "id": "AApduh8gbpVQ"
      },
      "execution_count": 86,
      "outputs": []
    },
    {
      "cell_type": "markdown",
      "source": [
        "## Tips for Managing Adult ADHD\n"
      ],
      "metadata": {
        "id": "anN2cUNmXD9Z"
      }
    },
    {
      "cell_type": "code",
      "source": [
        "book_path = '/content/drive/My Drive/Books/Tips for Managing Adult ADHD.pdf'\n",
        "pdf_document = fitz.open(book_path)\n",
        "\n",
        "text = ''\n",
        "for page_num in range(pdf_document.page_count):\n",
        "    page = pdf_document.load_page(page_num)\n",
        "    text += page.get_text()\n",
        "\n",
        "pdf_document.close()\n",
        "\n",
        "print(text[:500])"
      ],
      "metadata": {
        "colab": {
          "base_uri": "https://localhost:8080/"
        },
        "id": "B383euzVbq2w",
        "outputId": "94ae8386-1d9b-4589-f8fe-9e0268b1267a"
      },
      "execution_count": 87,
      "outputs": [
        {
          "output_type": "stream",
          "name": "stdout",
          "text": [
            "How to deal with Adult ADHD (or ADD)\n",
            "If you have attention deficit hyperactivity disorder (ADHD), previously known as\n",
            "ADD, everything from paying the bills on time to keeping up with work, family, and\n",
            "social demands can seem overwhelming. ADHD can present challenges for adults\n",
            "across all areas of life and can be tough on your health and both your personal and\n",
            "on-the-job relationships. Your symptoms may lead to extreme procrastination, trouble\n",
            "meeting deadlines, and impulsive behavior. In additio\n"
          ]
        }
      ]
    },
    {
      "cell_type": "code",
      "source": [
        "chunks = recursive_text_splitter.split_text(text)\n",
        "print(f\"Number of chunks is {len(chunks)}\")"
      ],
      "metadata": {
        "colab": {
          "base_uri": "https://localhost:8080/"
        },
        "id": "My9ms55Obq5O",
        "outputId": "7445f18f-c881-4d76-ec17-d3252870d42c"
      },
      "execution_count": 88,
      "outputs": [
        {
          "output_type": "stream",
          "name": "stdout",
          "text": [
            "Number of chunks is 38\n"
          ]
        }
      ]
    },
    {
      "cell_type": "code",
      "source": [
        "documents = []\n",
        "for chunk in chunks:\n",
        "  documents.append(Document(\n",
        "        page_content=chunk,\n",
        "        metadata={\"Article\": \"Tips for Managing Adult ADHD\", \"Source\": \"HelpGuide.org\"},\n",
        "  ))"
      ],
      "metadata": {
        "id": "3k7UF_mFbq7g"
      },
      "execution_count": 89,
      "outputs": []
    },
    {
      "cell_type": "code",
      "source": [
        "embeddings = CohereEmbeddings(cohere_api_key= cohere_secret_key, user_agent='haven-app')\n",
        "vector_store = Pinecone_Langchain.from_documents(documents, embeddings, index_name=index)"
      ],
      "metadata": {
        "id": "4ZTwMUsObq9s"
      },
      "execution_count": 90,
      "outputs": []
    },
    {
      "cell_type": "markdown",
      "source": [
        "## Coping with Grief and Loss"
      ],
      "metadata": {
        "id": "vm4ZCt5cXxAO"
      }
    },
    {
      "cell_type": "code",
      "source": [
        "book_path = '/content/drive/My Drive/Books/Coping with Grief and Loss.pdf'\n",
        "pdf_document = fitz.open(book_path)\n",
        "\n",
        "text = ''\n",
        "for page_num in range(pdf_document.page_count):\n",
        "    page = pdf_document.load_page(page_num)\n",
        "    text += page.get_text()\n",
        "\n",
        "pdf_document.close()\n",
        "\n",
        "print(text[:500])"
      ],
      "metadata": {
        "colab": {
          "base_uri": "https://localhost:8080/"
        },
        "id": "0y1yYtc1cVJo",
        "outputId": "9c6619c9-c456-4321-cb3c-b39edffdff1c"
      },
      "execution_count": 91,
      "outputs": [
        {
          "output_type": "stream",
          "name": "stdout",
          "text": [
            "What is grief?\n",
            "Grief is a natural response to loss. It’s the emotional suffering you feel when\n",
            "something or someone you love is taken away. Often, the pain of loss can feel\n",
            "overwhelming. You may experience all kinds of difficult and unexpected emotions,\n",
            "from shock or anger to disbelief, guilt, and profound sadness.\n",
            "The pain of grief can also disrupt your physical health, making it difficult to sleep, eat,\n",
            "or even think straight. These are normal reactions to loss—and the more significant\n",
            "the los\n"
          ]
        }
      ]
    },
    {
      "cell_type": "code",
      "source": [
        "chunks = recursive_text_splitter.split_text(text)\n",
        "print(f\"Number of chunks is {len(chunks)}\")"
      ],
      "metadata": {
        "colab": {
          "base_uri": "https://localhost:8080/"
        },
        "id": "7v1_FnjGcVLw",
        "outputId": "b0a9e39d-4377-4929-8666-e993f593c6a4"
      },
      "execution_count": 92,
      "outputs": [
        {
          "output_type": "stream",
          "name": "stdout",
          "text": [
            "Number of chunks is 34\n"
          ]
        }
      ]
    },
    {
      "cell_type": "code",
      "source": [
        "documents = []\n",
        "for chunk in chunks:\n",
        "  documents.append(Document(\n",
        "        page_content=chunk,\n",
        "        metadata={\"Article\": \"Coping with Grief and Loss\", \"Source\": \"HelpGuide.org\"},\n",
        "  ))"
      ],
      "metadata": {
        "id": "UHxlQ7gkcVOR"
      },
      "execution_count": 93,
      "outputs": []
    },
    {
      "cell_type": "code",
      "source": [
        "embeddings = CohereEmbeddings(cohere_api_key= cohere_secret_key, user_agent='haven-app')\n",
        "vector_store = Pinecone_Langchain.from_documents(documents, embeddings, index_name=index)"
      ],
      "metadata": {
        "id": "k-w-bi2QcVQj"
      },
      "execution_count": 94,
      "outputs": []
    },
    {
      "cell_type": "markdown",
      "source": [
        "## Dealing with Uncertainty"
      ],
      "metadata": {
        "id": "Ids_Wd3GZMGm"
      }
    },
    {
      "cell_type": "code",
      "source": [
        "book_path = '/content/drive/My Drive/Books/Dealing with Uncertainty.pdf'\n",
        "pdf_document = fitz.open(book_path)\n",
        "\n",
        "text = ''\n",
        "for page_num in range(pdf_document.page_count):\n",
        "    page = pdf_document.load_page(page_num)\n",
        "    text += page.get_text()\n",
        "\n",
        "pdf_document.close()\n",
        "\n",
        "print(text[:500])"
      ],
      "metadata": {
        "colab": {
          "base_uri": "https://localhost:8080/"
        },
        "id": "khinDtSMclc-",
        "outputId": "eeda5983-64e5-48fc-8342-d76b82e5504d"
      },
      "execution_count": 95,
      "outputs": [
        {
          "output_type": "stream",
          "name": "stdout",
          "text": [
            "The role of uncertainty in life\n",
            "Uncertainty is all around us, never more so than today. Whether it concerns a global\n",
            "pandemic, the economy, or your finances, health, and relationships, much of what\n",
            "lies ahead in life remains uncertain. Yet as human beings, we crave security. We\n",
            "want to feel safe and have a sense of control over our lives and well-being. Fear and\n",
            "uncertainty can leave you feeling stressed, anxious, and powerless over the direction\n",
            "of your life. It can drain you emotionally and tr\n"
          ]
        }
      ]
    },
    {
      "cell_type": "code",
      "source": [
        "chunks = recursive_text_splitter.split_text(text)\n",
        "print(f\"Number of chunks is {len(chunks)}\")"
      ],
      "metadata": {
        "colab": {
          "base_uri": "https://localhost:8080/"
        },
        "id": "t-39XvOaclfU",
        "outputId": "2da0ea80-6bcf-4456-ad86-dfa831aa7ccd"
      },
      "execution_count": 96,
      "outputs": [
        {
          "output_type": "stream",
          "name": "stdout",
          "text": [
            "Number of chunks is 29\n"
          ]
        }
      ]
    },
    {
      "cell_type": "code",
      "source": [
        "documents = []\n",
        "for chunk in chunks:\n",
        "  documents.append(Document(\n",
        "        page_content=chunk,\n",
        "        metadata={\"Article\": \"Dealing with Uncertainty\", \"Source\": \"HelpGuide.org\"},\n",
        "  ))"
      ],
      "metadata": {
        "id": "J8KHqY6Vclh7"
      },
      "execution_count": 97,
      "outputs": []
    },
    {
      "cell_type": "code",
      "source": [
        "embeddings = CohereEmbeddings(cohere_api_key= cohere_secret_key, user_agent='haven-app')\n",
        "vector_store = Pinecone_Langchain.from_documents(documents, embeddings, index_name=index)"
      ],
      "metadata": {
        "id": "qNHmDrLCclwy"
      },
      "execution_count": 98,
      "outputs": []
    }
  ]
}